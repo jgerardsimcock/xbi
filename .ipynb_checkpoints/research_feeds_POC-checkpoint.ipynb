{
 "cells": [
  {
   "cell_type": "code",
   "execution_count": 1,
   "metadata": {
    "collapsed": false
   },
   "outputs": [],
   "source": [
    "import feedparser\n",
    "\n",
    "rss_feeds = ['https://www.google.com/alerts/feeds/06737606175456071144/5236553475899497279']\n",
    "\n"
   ]
  },
  {
   "cell_type": "code",
   "execution_count": 3,
   "metadata": {
    "collapsed": true
   },
   "outputs": [],
   "source": [
    "def update_feeds(rss_feeds):\n",
    "    for feed in rss_feeds:\n",
    "        feed_dictionary = feedparser.parse(feed)\n",
    "        print \"There are %s new articles in your feed\" % (len(feed_dictionary.entries))\n",
    "        print\n",
    "        alert_summary(feed_dictionary)\n"
   ]
  },
  {
   "cell_type": "code",
   "execution_count": 4,
   "metadata": {
    "collapsed": false
   },
   "outputs": [],
   "source": [
    "def feed_title(some_feed):\n",
    "    return some_feed.feed.title\n",
    "        "
   ]
  },
  {
   "cell_type": "code",
   "execution_count": 6,
   "metadata": {
    "collapsed": false
   },
   "outputs": [],
   "source": [
    "def feed_link(some_feed):\n",
    "    return some_feed.feed.link\n"
   ]
  },
  {
   "cell_type": "code",
   "execution_count": 7,
   "metadata": {
    "collapsed": false
   },
   "outputs": [],
   "source": [
    "def feed_date(some_feed):\n",
    "    return some_feed.values()[0]['updated']\n"
   ]
  },
  {
   "cell_type": "code",
   "execution_count": 8,
   "metadata": {
    "collapsed": false,
    "scrolled": true
   },
   "outputs": [],
   "source": [
    "def feed_url(urrl):\n",
    "    cleaned = re.findall('(?<=url=)(?:(?:https?|ftp|file)://|www\\.|ftp\\.)[^\"\\r\\n]+(?=&ct)', urrl)\n",
    "    return cleaned[0]\n"
   ]
  },
  {
   "cell_type": "code",
   "execution_count": 10,
   "metadata": {
    "collapsed": false
   },
   "outputs": [],
   "source": [
    "import re\n",
    "def link_summary(link):\n",
    "    cleaner = re.compile(u'[<b>][</b>]+')\n",
    "    _summary = cleaner.sub(\"\", link.summary)\n",
    "    cleaner1 = re.compile(u'/&nbsp;/')\n",
    "    return cleaner1.sub(\"\", _summary)\n",
    "    \n",
    "    \n"
   ]
  },
  {
   "cell_type": "code",
   "execution_count": 12,
   "metadata": {
    "collapsed": false
   },
   "outputs": [],
   "source": [
    "def alert_summary(some_feed):\n",
    "    print \"Google Alert Query: %s\" % (feed_title(some_feed))\n",
    "    print\n",
    "    print \"Links and titles below for:  %s\" % (feed_date(some_feed))\n",
    "    print \"__________________________________________________\"\n",
    "\n",
    "\n",
    "    for i in xrange(len(some_feed.entries)):\n",
    "        print\n",
    "        print \"Summary\"\n",
    "        print link_summary(some_feed.entries[i])\n",
    "        print\n",
    "        print \"url\"\n",
    "        print feed_url(some_feed.entries[i].link)\n",
    "        \n",
    "        \n",
    "        \n",
    "        \n"
   ]
  },
  {
   "cell_type": "code",
   "execution_count": 13,
   "metadata": {
    "collapsed": false
   },
   "outputs": [
    {
     "name": "stdout",
     "output_type": "stream",
     "text": [
      "There are 14 new articles in your feed\n",
      "\n",
      "Google Alert Query: Google Alert - China and investment and United States\n",
      "\n",
      "Links and titles below for:  2016-09-25T19:30:00Z\n",
      "__________________________________________________\n",
      "\n",
      "Summary\n",
      "Xu Haifeng, Executive VP of Bank of China USA told Xinhua Sunday. ... bring two-way trade, investment and economic cooperation to new heights.\n",
      "\n",
      "url\n",
      "http://english.cri.cn/12394/2016/09/26/3941s941236.htm\n",
      "\n",
      "Summary\n",
      "ISLAMABAD: The United States has spent billions of dollars in Afghanistan to ... of Afghan reconstruction projects, multibillion-dollar American investment in ... states have expressed interest in becoming part of the China-Pakistan&nbsp;...\n",
      "\n",
      "url\n",
      "http://tribune.com.pk/story/1188230/neighbourly-relations-afghanistan-stands-gain-cpec-option/\n",
      "\n",
      "Summary\n",
      "Duterte also said China and Russia could be alternative investment and ... Tuazon argued that the Philippines' longstanding dependence on the US&nbsp;...\n",
      "\n",
      "url\n",
      "http://www.manilatimes.net/duterte-balancing-ph-foreign-policy-analyst/287902/\n",
      "\n",
      "Summary\n",
      "The United State and China, the two nations with the most global warming emissions, have now ratified the landmark Paris ... “The good news is that there is unprecedented investment in clean energy, renewable energy and energy&nbsp;...\n",
      "\n",
      "url\n",
      "http://www.pri.org/stories/2016-09-25/us-and-china-have-now-officially-ratified-paris-climate-agreement\n",
      "\n",
      "Summary\n",
      "He observed that &quot;China and the United States have had great differences. ... This policy is being followed by China despite being aware that the US record ... Nawaz Sharif unveiled new trade and investment deals worth $28 billion.\n",
      "\n",
      "url\n",
      "http://www.thefinancialexpress-bd.com/2016/09/25/47170/New-facets-of-China's-foreign-and-economic-policies\n",
      "\n",
      "Summary\n",
      "U.S. Stocks Goldman Sachs Groups Inc ... United States and in Europe. Indeed, China's economy is slowing, resulting in a more volatile stock market.\n",
      "\n",
      "url\n",
      "http://www.thelincolnianonline.com/goldman-sachs-is-slashing-investment-banking-numbers-in-asia/\n",
      "\n",
      "Summary\n",
      "From real estate, to high-tech firms to entertainment giants, Chinese investments in the United States, notably California, are moving at a dizzying pace&nbsp;...\n",
      "\n",
      "url\n",
      "http://www.dailymail.co.uk/wires/afp/article-3806123/California-dreamin-Chinese-investors-US.html\n",
      "\n",
      "Summary\n",
      "Barely five months after a currency swap deal between Nigeria and China was ... by China to boost yuan-liquidity in Nigerian banks as a trade and investment .... from China, Netherlands, United States, India and the United Kingdom.\n",
      "\n",
      "url\n",
      "http://allafrica.com/stories/201609250250.html\n",
      "\n",
      "Summary\n",
      "China's President Xi Jinping and his wife, Peng Liyuan, pose with US first lady Michelle ... Cross-strait investment and business have also been hit.\n",
      "\n",
      "url\n",
      "https://www.theguardian.com/commentisfree/2016/sep/25/obama-failed-asian-pivot-china-ascendant\n",
      "\n",
      "Summary\n",
      "Uber has recently exited China by selling its operations to a local rival Didi ... If KWAP had invested US$30 million in the company when Uber was&nbsp;...\n",
      "\n",
      "url\n",
      "http://www.freemalaysiatoday.com/category/opinion/2016/09/25/right-time-to-invest-in-uber/\n",
      "\n",
      "Summary\n",
      "Lima, Sep. 24. Chinese firms have committed to invest some US$10.18 billion in seven mining deposits across Peru, according to the latest report&nbsp;...\n",
      "\n",
      "url\n",
      "http://www.andina.com.pe/Ingles/noticia-china-investment-accounts-for-225-of-mining-projects-in-peru-632461.aspx\n",
      "\n",
      "Summary\n",
      "Beijing is also talking to Washington about a bilateral investment treaty. ... China's customs data shows China reported an about US$3.2 billion trade&nbsp;...\n",
      "\n",
      "url\n",
      "http://www.scmp.com/news/china/diplomacy-defence/article/2022319/china-views-potential-deal-canada-means-break-us-trade\n",
      "\n",
      "Summary\n",
      "China considers making mining rules closer to int'l standards ... China has invested 568 billion yuan (85 billion U.S. dollars) in geological exploration&nbsp;...\n",
      "\n",
      "url\n",
      "http://www.china.org.cn/business/2016-09/24/content_39367594.htm\n",
      "\n",
      "Summary\n",
      "Chinese investment in Australian real estate has increased at least tenfold since ... last year for a port next to a base that often houses United States Marines. .... When Cyclone Joan flattened half of Port Hedland in 1975, the state&nbsp;...\n",
      "\n",
      "url\n",
      "http://www.nytimes.com/2016/09/25/business/international/australia-china-mining-port-hedland.html\n"
     ]
    }
   ],
   "source": [
    "update_feeds(rss_feeds)"
   ]
  }
 ],
 "metadata": {
  "anaconda-cloud": {},
  "kernelspec": {
   "display_name": "Python [default]",
   "language": "python",
   "name": "python2"
  },
  "language_info": {
   "codemirror_mode": {
    "name": "ipython",
    "version": 2
   },
   "file_extension": ".py",
   "mimetype": "text/x-python",
   "name": "python",
   "nbconvert_exporter": "python",
   "pygments_lexer": "ipython2",
   "version": "2.7.12"
  }
 },
 "nbformat": 4,
 "nbformat_minor": 0
}
